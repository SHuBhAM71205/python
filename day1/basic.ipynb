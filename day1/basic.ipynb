{
 "cells": [
  {
   "cell_type": "code",
   "execution_count": null,
   "id": "6700bc94",
   "metadata": {},
   "outputs": [],
   "source": [
    "print(\"hello world\")"
   ]
  },
  {
   "cell_type": "code",
   "execution_count": null,
   "id": "a7b41eed",
   "metadata": {},
   "outputs": [],
   "source": [
    "name=\"Shubham\"\n",
    "id=68\n",
    "\n",
    "print(name,\"type of the name is \", type(name),\"type of the id is \",type(id))"
   ]
  },
  {
   "cell_type": "code",
   "execution_count": null,
   "id": "6aa30d6d",
   "metadata": {},
   "outputs": [],
   "source": [
    "# Assign multiple value at the time \n",
    "\n",
    "a=b=c=1\n",
    "\n",
    "'''\n",
    "    c=1\n",
    "    b=1\n",
    "    a=1\n",
    "'''\n",
    "\n",
    "x,y,z = a,b,c\n",
    "\n",
    "l,m,n = a"
   ]
  },
  {
   "cell_type": "code",
   "execution_count": null,
   "id": "d52c98d2",
   "metadata": {},
   "outputs": [],
   "source": [
    "'''ArithmeticError\n",
    "    HOw to print use \n",
    "\n",
    "    + or ,\n",
    "\n",
    "    + for string concate\n",
    "'''"
   ]
  },
  {
   "cell_type": "code",
   "execution_count": null,
   "id": "09bc04dd",
   "metadata": {},
   "outputs": [],
   "source": [
    "'''\n",
    "    for global variable write on the top    \n",
    "\n",
    "    or global  x\n",
    "'''\n",
    "\n",
    "global x \n",
    "x= 10\n"
   ]
  },
  {
   "cell_type": "code",
   "execution_count": null,
   "id": "cb5338df",
   "metadata": {},
   "outputs": [],
   "source": [
    "i=1\n",
    "if i<1 :\n",
    "    print(\"i is less then one\")\n",
    "else :\n",
    "    print(\"no\")"
   ]
  },
  {
   "cell_type": "code",
   "execution_count": null,
   "id": "f198ee89",
   "metadata": {},
   "outputs": [],
   "source": [
    "for i in range(5):\n",
    "    print(i)"
   ]
  },
  {
   "cell_type": "code",
   "execution_count": null,
   "id": "0205097e",
   "metadata": {},
   "outputs": [],
   "source": [
    "for num in range(10):\n",
    "    if num == 5:\n",
    "        break\n",
    "    if num % 2 == 0:\n",
    "        continue\n",
    "    print(num)"
   ]
  },
  {
   "cell_type": "markdown",
   "id": "13802c28",
   "metadata": {},
   "source": [
    "this is the example of the for loop"
   ]
  },
  {
   "cell_type": "code",
   "execution_count": null,
   "id": "adca7f59",
   "metadata": {},
   "outputs": [],
   "source": [
    "def greet(name):\n",
    "    return f\"Hello, {name}!\"\n",
    "\n",
    "greet(\"Shubham\")"
   ]
  },
  {
   "cell_type": "code",
   "execution_count": null,
   "id": "11e58b06",
   "metadata": {},
   "outputs": [],
   "source": [
    "def xtopw(x,y=2):\n",
    "    return x**y\n",
    "\n",
    "xtopw(5,2)"
   ]
  }
 ],
 "metadata": {
  "kernelspec": {
   "display_name": ".venv",
   "language": "python",
   "name": "python3"
  },
  "language_info": {
   "codemirror_mode": {
    "name": "ipython",
    "version": 3
   },
   "file_extension": ".py",
   "mimetype": "text/x-python",
   "name": "python",
   "nbconvert_exporter": "python",
   "pygments_lexer": "ipython3",
   "version": "3.13.5"
  }
 },
 "nbformat": 4,
 "nbformat_minor": 5
}
