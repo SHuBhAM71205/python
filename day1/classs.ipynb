{
 "cells": [
  {
   "cell_type": "markdown",
   "id": "503205fb",
   "metadata": {},
   "source": [
    "this is to demonstrate the class in python"
   ]
  },
  {
   "cell_type": "code",
   "execution_count": 2,
   "id": "99acddba",
   "metadata": {},
   "outputs": [
    {
     "name": "stdout",
     "output_type": "stream",
     "text": [
      "tommy speak Woof\n"
     ]
    }
   ],
   "source": [
    "class Dog:\n",
    "    speices=\"pomen\"\n",
    "\n",
    "    def __init__(self,name,age):\n",
    "        self.name=\"tommy\"\n",
    "        self.age=10\n",
    "    \n",
    "    def speak(self,sound):\n",
    "        return f\"{self.name} speak {sound}\"\n",
    "\n",
    "mydog = Dog(\"Buddy\", 5)\n",
    "print(mydog.speak(\"Woof\"))"
   ]
  }
 ],
 "metadata": {
  "kernelspec": {
   "display_name": ".venv",
   "language": "python",
   "name": "python3"
  },
  "language_info": {
   "codemirror_mode": {
    "name": "ipython",
    "version": 3
   },
   "file_extension": ".py",
   "mimetype": "text/x-python",
   "name": "python",
   "nbconvert_exporter": "python",
   "pygments_lexer": "ipython3",
   "version": "3.13.5"
  }
 },
 "nbformat": 4,
 "nbformat_minor": 5
}
