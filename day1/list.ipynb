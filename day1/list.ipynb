{
 "cells": [
  {
   "cell_type": "markdown",
   "id": "99841a9c",
   "metadata": {},
   "source": [
    "List items are ordered, changeable, and allow duplicate values."
   ]
  },
  {
   "cell_type": "markdown",
   "id": "7d642c6c",
   "metadata": {},
   "source": [
    "List items are indexed, the first item has index [0], the second item has index [1] etc."
   ]
  },
  {
   "cell_type": "code",
   "execution_count": 10,
   "id": "42d48650",
   "metadata": {},
   "outputs": [],
   "source": [
    "mylist = [\"apple\", \"banana\", \"cherry\"]\n",
    "thislist = list((\"apple\", \"banana\", \"cherry\")) # note the double round-brackets\n"
   ]
  },
  {
   "cell_type": "code",
   "execution_count": 11,
   "id": "29a85d97",
   "metadata": {},
   "outputs": [
    {
     "name": "stdout",
     "output_type": "stream",
     "text": [
      "['apple', 'banana', 'cherry']\n"
     ]
    }
   ],
   "source": [
    "print(mylist)"
   ]
  },
  {
   "cell_type": "code",
   "execution_count": 12,
   "id": "9fff10cc",
   "metadata": {},
   "outputs": [
    {
     "name": "stdout",
     "output_type": "stream",
     "text": [
      "<class 'list'>\n"
     ]
    }
   ],
   "source": [
    "list1 = [\"abc\", 34, True, 40, \"male\"]\n",
    "print(type(mylist))"
   ]
  },
  {
   "cell_type": "markdown",
   "id": "b20e3e6f",
   "metadata": {},
   "source": [
    "accesing the list element\n"
   ]
  },
  {
   "cell_type": "code",
   "execution_count": 13,
   "id": "4bb6edd5",
   "metadata": {},
   "outputs": [
    {
     "name": "stdout",
     "output_type": "stream",
     "text": [
      "cherry\n"
     ]
    }
   ],
   "source": [
    "print(thislist[-1])"
   ]
  },
  {
   "cell_type": "code",
   "execution_count": 14,
   "id": "5a51fddb",
   "metadata": {},
   "outputs": [
    {
     "name": "stdout",
     "output_type": "stream",
     "text": [
      "['cherry']\n"
     ]
    }
   ],
   "source": [
    "print(thislist[2:5])"
   ]
  },
  {
   "cell_type": "markdown",
   "id": "f49014ef",
   "metadata": {},
   "source": [
    "changing the list\n"
   ]
  },
  {
   "cell_type": "code",
   "execution_count": 16,
   "id": "b9c613f1",
   "metadata": {},
   "outputs": [
    {
     "name": "stdout",
     "output_type": "stream",
     "text": [
      "['apple', 'blackcurrant', 'cherry']\n"
     ]
    }
   ],
   "source": [
    "thislist[1] = \"blackcurrant\"\n",
    "print(thislist)"
   ]
  },
  {
   "cell_type": "code",
   "execution_count": null,
   "id": "d396ba52",
   "metadata": {},
   "outputs": [],
   "source": []
  },
  {
   "cell_type": "code",
   "execution_count": 17,
   "id": "10974e4d",
   "metadata": {},
   "outputs": [
    {
     "name": "stdout",
     "output_type": "stream",
     "text": [
      "['apple', 'blackcurrant', 'watermelon', 'cherry']\n"
     ]
    }
   ],
   "source": [
    "thislist.insert(2, \"watermelon\")\n",
    "\n",
    "print(thislist)"
   ]
  },
  {
   "cell_type": "code",
   "execution_count": null,
   "id": "689e7962",
   "metadata": {},
   "outputs": [],
   "source": [
    "thislist.append(\"orange\")\n",
    "thislist.insert(1, \"orange\")"
   ]
  },
  {
   "cell_type": "code",
   "execution_count": 19,
   "id": "3e0838c1",
   "metadata": {},
   "outputs": [
    {
     "data": {
      "text/plain": [
       "['apple',\n",
       " 'blackcurrant',\n",
       " 'watermelon',\n",
       " 'cherry',\n",
       " 'mango',\n",
       " 'pineapple',\n",
       " 'papaya',\n",
       " 'mango',\n",
       " 'pineapple',\n",
       " 'papaya']"
      ]
     },
     "execution_count": 19,
     "metadata": {},
     "output_type": "execute_result"
    }
   ],
   "source": [
    "\n",
    "tropical = [\"mango\", \"pineapple\", \"papaya\"]\n",
    "thislist.extend(tropical)\n",
    "thislist"
   ]
  },
  {
   "cell_type": "code",
   "execution_count": 20,
   "id": "a8b22e96",
   "metadata": {},
   "outputs": [
    {
     "name": "stdout",
     "output_type": "stream",
     "text": [
      "['apple', 'blackcurrant', 'watermelon', 'cherry', 'mango', 'pineapple', 'papaya', 'mango', 'pineapple', 'papaya', 'kiwi', 'orange']\n"
     ]
    }
   ],
   "source": [
    "thistuple = (\"kiwi\", \"orange\")\n",
    "thislist.extend(thistuple)\n",
    "print(thislist)\n",
    "\n",
    "#the extend method add the iterable item at the end"
   ]
  },
  {
   "cell_type": "markdown",
   "id": "31906e41",
   "metadata": {},
   "source": [
    "REmove method"
   ]
  },
  {
   "cell_type": "code",
   "execution_count": null,
   "id": "19ea83de",
   "metadata": {},
   "outputs": [],
   "source": [
    "thislist.pop(1) #if not specify then remove the last\n",
    "\n",
    "thislist.remove(1) #if not specify then remove the first\n",
    "print(thislist)"
   ]
  },
  {
   "cell_type": "code",
   "execution_count": null,
   "id": "06c32957",
   "metadata": {},
   "outputs": [],
   "source": [
    "del thislist[0] #give index as input"
   ]
  },
  {
   "cell_type": "code",
   "execution_count": 21,
   "id": "ce795c8b",
   "metadata": {},
   "outputs": [
    {
     "name": "stdout",
     "output_type": "stream",
     "text": [
      "['apple', 'blackcurrant', 'watermelon', 'cherry', 'mango', 'pineapple', 'papaya', 'mango', 'pineapple', 'papaya', 'kiwi', 'orange']\n",
      "[]\n"
     ]
    }
   ],
   "source": [
    "temp=thislist\n",
    "\n",
    "print (temp)\n",
    "\n",
    "temp.clear()\n",
    "\n",
    "print(temp)"
   ]
  },
  {
   "cell_type": "markdown",
   "id": "123798d4",
   "metadata": {},
   "source": [
    "Loops in the list"
   ]
  },
  {
   "cell_type": "code",
   "execution_count": 22,
   "id": "006bb16d",
   "metadata": {},
   "outputs": [
    {
     "name": "stdout",
     "output_type": "stream",
     "text": [
      "apple\n",
      "banana\n",
      "cherry\n"
     ]
    }
   ],
   "source": [
    "thislist = [\"apple\", \"banana\", \"cherry\"]\n",
    "for x in thislist:\n",
    "  print(x)"
   ]
  },
  {
   "cell_type": "code",
   "execution_count": 23,
   "id": "d557d5bd",
   "metadata": {},
   "outputs": [
    {
     "name": "stdout",
     "output_type": "stream",
     "text": [
      "apple\n",
      "banana\n",
      "cherry\n"
     ]
    }
   ],
   "source": [
    "thislist = [\"apple\", \"banana\", \"cherry\"]\n",
    "for i in range(len(thislist)):\n",
    "  print(thislist[i])"
   ]
  },
  {
   "cell_type": "code",
   "execution_count": null,
   "id": "efee743b",
   "metadata": {},
   "outputs": [],
   "source": [
    "thislist = [\"apple\", \"banana\", \"cherry\"]\n",
    "i = 0\n",
    "while i < len(thislist):\n",
    "  print(thislist[i])\n",
    "  i = i + 1"
   ]
  },
  {
   "cell_type": "markdown",
   "id": "585452d9",
   "metadata": {},
   "source": [
    "List Comprehenssion"
   ]
  },
  {
   "cell_type": "code",
   "execution_count": 28,
   "id": "74595cbf",
   "metadata": {},
   "outputs": [
    {
     "name": "stdout",
     "output_type": "stream",
     "text": [
      "['apple', 'banana']\n"
     ]
    }
   ],
   "source": [
    "newlist=list(())\n",
    "# for c in thislist:\n",
    "#     if \"a\" in c:\n",
    "#         newlist.append(c)\n",
    "newlist=[x for x in thislist if \"a\" in x]\n",
    "print(newlist)"
   ]
  },
  {
   "cell_type": "code",
   "execution_count": 36,
   "id": "765335cd",
   "metadata": {},
   "outputs": [
    {
     "name": "stdout",
     "output_type": "stream",
     "text": [
      "[6, 3, 10, 8, 7, 4, 6, 3, 4]\n"
     ]
    }
   ],
   "source": [
    "# to sort the list\n",
    "import random\n",
    "thislist.sort()\n",
    "\n",
    "def myfunc(n):\n",
    "    return abs(n-10)\n",
    "# reverse= true for print reverse\n",
    "\n",
    "\n",
    "numlist = [random.randint(1, 10) for _ in range(9)]\n",
    "print(numlist)\n",
    "\n",
    "numlist.sort(key=myfunc)"
   ]
  },
  {
   "cell_type": "code",
   "execution_count": null,
   "id": "923ec9e3",
   "metadata": {},
   "outputs": [],
   "source": []
  }
 ],
 "metadata": {
  "kernelspec": {
   "display_name": ".venv",
   "language": "python",
   "name": "python3"
  },
  "language_info": {
   "codemirror_mode": {
    "name": "ipython",
    "version": 3
   },
   "file_extension": ".py",
   "mimetype": "text/x-python",
   "name": "python",
   "nbconvert_exporter": "python",
   "pygments_lexer": "ipython3",
   "version": "3.13.5"
  }
 },
 "nbformat": 4,
 "nbformat_minor": 5
}
