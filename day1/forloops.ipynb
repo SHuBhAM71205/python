{
 "cells": [
  {
   "cell_type": "code",
   "execution_count": null,
   "id": "94d6e19b",
   "metadata": {},
   "outputs": [],
   "source": [
    "# Basic list iteration\n",
    "for item in [1, 2, 3]:\n",
    "    print(item)\n",
    "\n",
    "# Tuple/Set iteration\n",
    "for val in (1, 2), {\"a\", \"b\"}:\n",
    "    print(val)\n",
    "\n",
    "# Iterate over dict keys & values\n",
    "d = {'a': 1, 'b': 2}\n",
    "for k in d:\n",
    "    print(k, d[k])\n",
    "for k, v in d.items():\n",
    "    print(k, v)\n",
    "\n",
    "# For...else usage\n",
    "for i in range(1):\n",
    "    print(i)\n",
    "    if i == 10:\n",
    "        break\n",
    "else:\n",
    "    print(\"Finished without break\")\n"
   ]
  },
  {
   "cell_type": "code",
   "execution_count": null,
   "id": "709e161d",
   "metadata": {},
   "outputs": [],
   "source": [
    "for i, j in zip(range(10), 'abc'):\n",
    "    print(i, j)"
   ]
  },
  {
   "cell_type": "markdown",
   "id": "d3c817d2",
   "metadata": {},
   "source": [
    "zip"
   ]
  },
  {
   "cell_type": "code",
   "execution_count": null,
   "id": "c8afae01",
   "metadata": {},
   "outputs": [],
   "source": []
  }
 ],
 "metadata": {
  "kernelspec": {
   "display_name": ".venv",
   "language": "python",
   "name": "python3"
  },
  "language_info": {
   "codemirror_mode": {
    "name": "ipython",
    "version": 3
   },
   "file_extension": ".py",
   "mimetype": "text/x-python",
   "name": "python",
   "nbconvert_exporter": "python",
   "pygments_lexer": "ipython3",
   "version": "3.13.5"
  }
 },
 "nbformat": 4,
 "nbformat_minor": 5
}
