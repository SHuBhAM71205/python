{
 "cells": [
  {
   "cell_type": "markdown",
   "id": "8f2db4f3",
   "metadata": {},
   "source": [
    "string in python and its methods"
   ]
  },
  {
   "cell_type": "code",
   "execution_count": 3,
   "id": "43a24e18",
   "metadata": {},
   "outputs": [
    {
     "name": "stdout",
     "output_type": "stream",
     "text": [
      "Shubham\n"
     ]
    }
   ],
   "source": [
    "string='''Shubham'''\n",
    "\n",
    "print(string)"
   ]
  },
  {
   "cell_type": "code",
   "execution_count": 2,
   "id": "27c092c3",
   "metadata": {},
   "outputs": [
    {
     "name": "stdout",
     "output_type": "stream",
     "text": [
      "It's alright\n",
      "He is called 'Johnny'\n",
      "He is called \"Johnny\"\n"
     ]
    }
   ],
   "source": [
    "print(\"It's alright\")\n",
    "print(\"He is called 'Johnny'\")\n",
    "print('He is called \"Johnny\"')"
   ]
  },
  {
   "cell_type": "markdown",
   "id": "c6a685a6",
   "metadata": {},
   "source": [
    "len"
   ]
  },
  {
   "cell_type": "code",
   "execution_count": 4,
   "id": "c61aef5f",
   "metadata": {},
   "outputs": [
    {
     "data": {
      "text/plain": [
       "7"
      ]
     },
     "execution_count": 4,
     "metadata": {},
     "output_type": "execute_result"
    }
   ],
   "source": [
    "len(string)"
   ]
  },
  {
   "cell_type": "markdown",
   "id": "71e884f7",
   "metadata": {},
   "source": [
    "<!-- check the presence of the ele in string -->"
   ]
  },
  {
   "cell_type": "code",
   "execution_count": 7,
   "id": "2699563d",
   "metadata": {},
   "outputs": [
    {
     "name": "stdout",
     "output_type": "stream",
     "text": [
      "True\n",
      "Yes, 'free' is present.\n",
      "True\n"
     ]
    }
   ],
   "source": [
    "txt = \"The best things in life are free!\"\n",
    "print(\"free\" in txt)\n",
    "\n",
    "if \"free\" in txt:\n",
    "  print(\"Yes, 'free' is present.\")\n",
    "\n",
    "txt = \"The best things in life are free!\"\n",
    "print(\"expensive\" not in txt)"
   ]
  },
  {
   "cell_type": "markdown",
   "id": "a909fd91",
   "metadata": {},
   "source": [
    "string slicing "
   ]
  },
  {
   "cell_type": "code",
   "execution_count": null,
   "id": "33e2d690",
   "metadata": {},
   "outputs": [
    {
     "name": "stdout",
     "output_type": "stream",
     "text": [
      "st s\n",
      "st sample for string slising\n",
      "Test \n",
      " slisin\n"
     ]
    }
   ],
   "source": [
    "b=\"Test sample for string slising\"\n",
    "\n",
    "print(b[2:6])#including the 2 to 5\n",
    "\n",
    "print(b[2:])\n",
    "\n",
    "print(b[:5])\n",
    "\n",
    "print(b[-8:-1]) "
   ]
  },
  {
   "cell_type": "code",
   "execution_count": null,
   "id": "7735f940",
   "metadata": {},
   "outputs": [],
   "source": [
    "b.upper()\n",
    "\n",
    "b.strip() #remove the trailing and starting spaces\n",
    "\n",
    "b.replace(\"A\",\"J\") #replace the A with J\n",
    "\n",
    "b.split(\" \") #splitfrom the space\n",
    "\n",
    "\n",
    "\n"
   ]
  },
  {
   "cell_type": "markdown",
   "id": "06943919",
   "metadata": {},
   "source": [
    "+ can be use to concate the string\n"
   ]
  },
  {
   "cell_type": "code",
   "execution_count": 15,
   "id": "b1f27840",
   "metadata": {},
   "outputs": [
    {
     "name": "stdout",
     "output_type": "stream",
     "text": [
      "The price is 59 dollars\n"
     ]
    }
   ],
   "source": [
    "# f string\n",
    "\n",
    "price = 59\n",
    "txt = f\"The price is {price} dollars\"\n",
    "print(txt)"
   ]
  },
  {
   "cell_type": "markdown",
   "id": "d9added0",
   "metadata": {},
   "source": [
    "escape characters\n",
    "\n",
    "\\'\tSingle Quote\t\n",
    "\\\\\tBackslash\t\n",
    "\\n\tNew Line\t\n",
    "\\r\tCarriage Return\t\n",
    "\\t\tTab\t\n",
    "\\b\tBackspace\t\n",
    "\\f\tForm Feed\t\n",
    "\\ooo\tOctal value\t\n",
    "\\xhh\tHex value"
   ]
  },
  {
   "cell_type": "code",
   "execution_count": null,
   "id": "cce7b178",
   "metadata": {},
   "outputs": [],
   "source": []
  }
 ],
 "metadata": {
  "kernelspec": {
   "display_name": ".venv",
   "language": "python",
   "name": "python3"
  },
  "language_info": {
   "codemirror_mode": {
    "name": "ipython",
    "version": 3
   },
   "file_extension": ".py",
   "mimetype": "text/x-python",
   "name": "python",
   "nbconvert_exporter": "python",
   "pygments_lexer": "ipython3",
   "version": "3.13.5"
  }
 },
 "nbformat": 4,
 "nbformat_minor": 5
}
