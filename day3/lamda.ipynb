{
 "cells": [
  {
   "cell_type": "markdown",
   "id": "b96ec8f5",
   "metadata": {},
   "source": [
    "Lamda fn is use like one liener function"
   ]
  },
  {
   "cell_type": "code",
   "execution_count": 1,
   "id": "b77f934b",
   "metadata": {},
   "outputs": [
    {
     "name": "stdout",
     "output_type": "stream",
     "text": [
      "15\n"
     ]
    }
   ],
   "source": [
    "x = lambda a : a + 10\n",
    "print(x(5))"
   ]
  },
  {
   "cell_type": "code",
   "execution_count": null,
   "id": "aa86d0bf",
   "metadata": {},
   "outputs": [],
   "source": [
    "x = lambda a, b : a * b\n",
    "print(x(5, 6))"
   ]
  },
  {
   "cell_type": "markdown",
   "id": "3ad46340",
   "metadata": {},
   "source": [
    "This is the thing we are writting the function which return the function which muntiply the arg to it by the arg passed to the fn1"
   ]
  },
  {
   "cell_type": "code",
   "execution_count": 2,
   "id": "3d265e7b",
   "metadata": {},
   "outputs": [
    {
     "name": "stdout",
     "output_type": "stream",
     "text": [
      "22\n",
      "33\n"
     ]
    }
   ],
   "source": [
    "def myfunc(n):\n",
    "  return lambda a : a * n\n",
    "\n",
    "mydoubler = myfunc(2)\n",
    "mytripler = myfunc(3)\n",
    "\n",
    "print(mydoubler(11))\n",
    "print(mytripler(11))"
   ]
  }
 ],
 "metadata": {
  "kernelspec": {
   "display_name": ".venv",
   "language": "python",
   "name": "python3"
  },
  "language_info": {
   "codemirror_mode": {
    "name": "ipython",
    "version": 3
   },
   "file_extension": ".py",
   "mimetype": "text/x-python",
   "name": "python",
   "nbconvert_exporter": "python",
   "pygments_lexer": "ipython3",
   "version": "3.13.5"
  }
 },
 "nbformat": 4,
 "nbformat_minor": 5
}
