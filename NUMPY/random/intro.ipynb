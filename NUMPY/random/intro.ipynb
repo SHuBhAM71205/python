{
 "cells": [
  {
   "cell_type": "markdown",
   "id": "050f4f74",
   "metadata": {},
   "source": [
    "random is someting which cannot be predicted.."
   ]
  },
  {
   "cell_type": "code",
   "execution_count": 34,
   "id": "3e5365d4",
   "metadata": {},
   "outputs": [
    {
     "name": "stdout",
     "output_type": "stream",
     "text": [
      "60 28 25 65 52 98 8 16 4 2\n",
      "44\n",
      "83\n",
      "31\n",
      "80\n",
      "34\n",
      "94\n",
      "5\n",
      "48\n",
      "2\n",
      "24\n"
     ]
    }
   ],
   "source": [
    "import numpy as np\n",
    "\n",
    "print(* (np.random.randint(100) for _ in range(10)))\n",
    "for num in (np.random.randint(100) for _ in range(10)):\n",
    "    print(num)"
   ]
  },
  {
   "cell_type": "code",
   "execution_count": 39,
   "id": "be6e0fa5",
   "metadata": {},
   "outputs": [
    {
     "name": "stdout",
     "output_type": "stream",
     "text": [
      "[ 8 19 28 86 13 95 72 48 79 11]\n",
      "[[3 8 6 7 0]\n",
      " [4 7 4 5 0]\n",
      " [7 1 4 9 2]\n",
      " [1 0 8 2 8]\n",
      " [8 3 1 1 7]]\n"
     ]
    }
   ],
   "source": [
    "x=np.random.randint(100,size=(10))\n",
    "\n",
    "print(x)\n",
    "\n",
    "x=np.random.randint(10,size=(5,5))\n",
    "\n",
    "print(x)"
   ]
  }
 ],
 "metadata": {
  "kernelspec": {
   "display_name": ".venv",
   "language": "python",
   "name": "python3"
  },
  "language_info": {
   "codemirror_mode": {
    "name": "ipython",
    "version": 3
   },
   "file_extension": ".py",
   "mimetype": "text/x-python",
   "name": "python",
   "nbconvert_exporter": "python",
   "pygments_lexer": "ipython3",
   "version": "3.13.5"
  }
 },
 "nbformat": 4,
 "nbformat_minor": 5
}
