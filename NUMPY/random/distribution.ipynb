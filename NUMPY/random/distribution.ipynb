{
 "cells": [
  {
   "cell_type": "markdown",
   "id": "2765601f",
   "metadata": {},
   "source": [
    "we can also generate the data base on the given [probablity] dist.\n",
    "\n",
    "\n",
    "using rand.choice()"
   ]
  },
  {
   "cell_type": "code",
   "execution_count": 23,
   "id": "7e67912a",
   "metadata": {},
   "outputs": [
    {
     "name": "stdout",
     "output_type": "stream",
     "text": [
      "9\n",
      "[[4 3 4 2 1 3 2 3 3 4]\n",
      " [3 3 3 4 3 4 1 4 2 3]\n",
      " [3 4 4 3 2 4 4 4 2 4]\n",
      " [3 4 3 3 1 1 2 2 2 3]\n",
      " [4 4 2 4 3 3 1 1 4 3]\n",
      " [2 3 2 1 4 4 3 4 3 3]\n",
      " [3 4 4 4 4 2 3 4 2 2]\n",
      " [3 4 4 4 3 4 2 2 4 4]\n",
      " [3 3 2 3 3 4 3 2 4 1]\n",
      " [4 2 2 3 1 3 2 4 3 4]]\n"
     ]
    }
   ],
   "source": [
    "import numpy as np\n",
    "\n",
    "x=np.random.choice([1,2,3,4],p=[.1,.2,.3,.4],size=(10,10))\n",
    "expr= x==1\n",
    "x2=x[expr]\n",
    "print(x2.size)\n",
    "print(x)\n"
   ]
  },
  {
   "cell_type": "code",
   "execution_count": null,
   "id": "a712fa88",
   "metadata": {},
   "outputs": [],
   "source": [
    "#if the array is present then we can suffel it by using the arr.shuffel()\n",
    "\n",
    "# while permutation return the new array"
   ]
  }
 ],
 "metadata": {
  "kernelspec": {
   "display_name": ".venv",
   "language": "python",
   "name": "python3"
  },
  "language_info": {
   "codemirror_mode": {
    "name": "ipython",
    "version": 3
   },
   "file_extension": ".py",
   "mimetype": "text/x-python",
   "name": "python",
   "nbconvert_exporter": "python",
   "pygments_lexer": "ipython3",
   "version": "3.13.5"
  }
 },
 "nbformat": 4,
 "nbformat_minor": 5
}
