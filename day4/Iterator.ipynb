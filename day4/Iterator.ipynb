{
 "cells": [
  {
   "cell_type": "markdown",
   "id": "22797f37",
   "metadata": {},
   "source": [
    "Iterator  in py"
   ]
  },
  {
   "cell_type": "markdown",
   "id": "5a18b48d",
   "metadata": {},
   "source": [
    "An iterator is an object that contains a countable number of values.\n",
    "\n",
    "\n",
    "An iterator is an object that can be iterated upon, meaning that you can traverse through all the values.\n",
    "\n",
    "\n",
    "Technically, in Python, an iterator is an object which implements the iterator protocol, which consist of the methods __iter__() and __next__()."
   ]
  },
  {
   "cell_type": "markdown",
   "id": "b91c8a11",
   "metadata": {},
   "source": [
    "Lists, tuples, dictionaries, and sets are all iterable objects. They are iterable containers which you can get an iterator from.\n",
    "\n",
    "All these objects have a iter() method which is used to get an iterator:"
   ]
  },
  {
   "cell_type": "code",
   "execution_count": null,
   "id": "b93ed836",
   "metadata": {},
   "outputs": [],
   "source": [
    "mytuple = (\"apple\", \"banana\", \"cherry\")\n",
    "myit = iter(mytuple)\n",
    "\n",
    "print(next(myit))\n",
    "print(next(myit))\n",
    "print(next(myit))"
   ]
  },
  {
   "cell_type": "markdown",
   "id": "538b847a",
   "metadata": {},
   "source": [
    "The for loop actually creates an iterator object and executes the next() method for each loop."
   ]
  },
  {
   "cell_type": "code",
   "execution_count": null,
   "id": "2d0877d1",
   "metadata": {},
   "outputs": [],
   "source": [
    "mystr = \"banana\"\n",
    "\n",
    "for x in mystr:\n",
    "  print(x)"
   ]
  },
  {
   "cell_type": "markdown",
   "id": "288cffbe",
   "metadata": {},
   "source": [
    "\n",
    "okay so in the custom object also we can create the iterable by using the __iter__ \n",
    "\n",
    "and by using the __next__ methode we can return the next value alsoi "
   ]
  },
  {
   "cell_type": "code",
   "execution_count": null,
   "id": "b58cb8ca",
   "metadata": {},
   "outputs": [],
   "source": [
    "class MyNumbers:\n",
    "  def __iter__(self):\n",
    "    self.a = 1\n",
    "    return self\n",
    "\n",
    "  def __next__(self):\n",
    "    if self.a <= 20:\n",
    "      x = self.a\n",
    "      self.a += 1\n",
    "      return x\n",
    "    else:\n",
    "      raise StopIteration\n",
    "\n",
    "myclass = MyNumbers()\n",
    "myiter = iter(myclass)\n",
    "\n",
    "print(next(myiter))\n",
    "print(next(myiter))\n",
    "print(next(myiter))\n",
    "print(next(myiter))\n",
    "print(next(myiter))"
   ]
  },
  {
   "cell_type": "markdown",
   "id": "b38e6eba",
   "metadata": {},
   "source": [
    "Polymorphism'"
   ]
  },
  {
   "cell_type": "markdown",
   "id": "4f636f9f",
   "metadata": {},
   "source": [
    "example of the polymorphism is the len which retirn the no of the object for tupple  lia while for the string it return the no of char in it"
   ]
  },
  {
   "cell_type": "code",
   "execution_count": null,
   "id": "c3e66c44",
   "metadata": {},
   "outputs": [
    {
     "name": "stdout",
     "output_type": "stream",
     "text": [
      "Ford Mustang\n",
      "Move!\n",
      "Ibiza Touring 20\n",
      "Sail!\n",
      "Boeing 747\n",
      "Fly!\n"
     ]
    }
   ],
   "source": [
    "# this is the example of the polymorphism in the class\n",
    "\n",
    "class Vehicle:\n",
    "  def __init__(self, brand, model):\n",
    "    self.brand = brand\n",
    "    self.model = model\n",
    "\n",
    "  def move(self):\n",
    "    print(\"Move!\")\n",
    "\n",
    "class Car(Vehicle):\n",
    "  pass\n",
    "\n",
    "class Boat(Vehicle):\n",
    "  def move(self):\n",
    "    print(\"Sail!\")\n",
    "\n",
    "class Plane(Vehicle):\n",
    "  def move(self):\n",
    "    print(\"Fly!\")\n",
    "\n",
    "car1 = Car(\"Ford\", \"Mustang\")       #Create a Car object\n",
    "boat1 = Boat(\"Ibiza\", \"Touring 20\") #Create a Boat object\n",
    "plane1 = Plane(\"Boeing\", \"747\")     #Create a Plane object\n",
    "\n",
    "for x in (car1, boat1, plane1):\n",
    "  print(x.brand+\" \"+x.model)\n",
    " \n",
    "  x.move()\n",
    "\n",
    "\n",
    "#   OUTPUT:\n",
    "#   Ford Mustang\n",
    "#  Move!\n",
    "#  Ibiza Touring 20\n",
    "#  Sail!\n",
    "#  Boeing 747\n",
    "#  Fly!"
   ]
  },
  {
   "cell_type": "code",
   "execution_count": null,
   "id": "07a7af1f",
   "metadata": {},
   "outputs": [],
   "source": []
  }
 ],
 "metadata": {
  "kernelspec": {
   "display_name": ".venv",
   "language": "python",
   "name": "python3"
  },
  "language_info": {
   "codemirror_mode": {
    "name": "ipython",
    "version": 3
   },
   "file_extension": ".py",
   "mimetype": "text/x-python",
   "name": "python",
   "nbconvert_exporter": "python",
   "pygments_lexer": "ipython3",
   "version": "3.13.5"
  }
 },
 "nbformat": 4,
 "nbformat_minor": 5
}
