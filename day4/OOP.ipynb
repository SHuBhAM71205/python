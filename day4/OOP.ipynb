{
 "cells": [
  {
   "cell_type": "markdown",
   "id": "b5875860",
   "metadata": {},
   "source": [
    "OOP using the Python\n",
    "\n",
    "\n",
    "Advantages of OOP\n",
    "\n",
    "Provides a clear structure to programs\n",
    "\n",
    "Makes code easier to maintain, reuse, and debug\n",
    "\n",
    "Helps keep your code DRY (Don't Repeat Yourself)\n",
    "\n",
    "Allows you to build reusable applications with less code"
   ]
  },
  {
   "cell_type": "code",
   "execution_count": null,
   "id": "c9b85736",
   "metadata": {},
   "outputs": [
    {
     "name": "stdout",
     "output_type": "stream",
     "text": [
      "Mango\n"
     ]
    }
   ],
   "source": [
    "#classes\n",
    "\n",
    "\n",
    "class Fruit:\n",
    "    name=\"Mango\"\n",
    "\n",
    "\n",
    "Mango=Fruit()\n",
    "\n",
    "\n",
    "\n",
    "print(Mango.name)\n"
   ]
  },
  {
   "cell_type": "markdown",
   "id": "17378c1a",
   "metadata": {},
   "source": [
    "INIT METHOD IS LIKE THE CONSTRUCTOR"
   ]
  },
  {
   "cell_type": "code",
   "execution_count": 7,
   "id": "53211636",
   "metadata": {},
   "outputs": [
    {
     "name": "stdout",
     "output_type": "stream",
     "text": [
      "John\n",
      "36\n"
     ]
    }
   ],
   "source": [
    "class Person:\n",
    "  def __init__(self, name, age):\n",
    "    self.name = name\n",
    "    self.age = age\n",
    "\n",
    "p1 = Person(\"John\", 36)\n",
    "\n",
    "print(p1.name)\n",
    "print(p1.age)\n"
   ]
  },
  {
   "cell_type": "markdown",
   "id": "066076da",
   "metadata": {},
   "source": [
    "The use of __str__\n",
    "\n",
    "it is use to present the object in human redable form examplwe\n",
    "\n",
    "print(object)\n",
    "\n",
    "then it call the __str__\n",
    "\n",
    "method"
   ]
  },
  {
   "cell_type": "code",
   "execution_count": null,
   "id": "dae349ea",
   "metadata": {},
   "outputs": [
    {
     "name": "stdout",
     "output_type": "stream",
     "text": [
      "Hello my name is $Shubham and id id 68\n"
     ]
    }
   ],
   "source": [
    "class Person:\n",
    "    def __init__(self,name,id):\n",
    "        self.name=name\n",
    "        self.id=id\n",
    "    \n",
    "    def __str__(self):\n",
    "        return f\"Hello my name is {self.name} and id is {self.id}\"\n",
    "    \n",
    "\n",
    "per= Person(\"Shubham\",68)\n",
    "\n",
    "print(per)"
   ]
  },
  {
   "cell_type": "markdown",
   "id": "551497ea",
   "metadata": {},
   "source": [
    "inheritance in the python"
   ]
  },
  {
   "cell_type": "code",
   "execution_count": null,
   "id": "e9bed0a4",
   "metadata": {},
   "outputs": [],
   "source": []
  }
 ],
 "metadata": {
  "kernelspec": {
   "display_name": ".venv",
   "language": "python",
   "name": "python3"
  },
  "language_info": {
   "codemirror_mode": {
    "name": "ipython",
    "version": 3
   },
   "file_extension": ".py",
   "mimetype": "text/x-python",
   "name": "python",
   "nbconvert_exporter": "python",
   "pygments_lexer": "ipython3",
   "version": "3.13.5"
  }
 },
 "nbformat": 4,
 "nbformat_minor": 5
}
