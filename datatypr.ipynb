{
 "cells": [
  {
   "cell_type": "code",
   "execution_count": null,
   "id": "2e69deb2",
   "metadata": {},
   "outputs": [],
   "source": [
    "'''\n",
    "    Text Type:\tstr\n",
    "    Numeric Types:\tint, float, complex\n",
    "    Sequence Types:\tlist, tuple, range\n",
    "    Mapping Type:\tdict\n",
    "    Set Types:\tset, frozenset\n",
    "    Boolean Type:\tbool\n",
    "    Binary Types:\tbytes, bytearray, memoryview\n",
    "    None Type:\tNoneType\n",
    "'''"
   ]
  },
  {
   "cell_type": "code",
   "execution_count": 1,
   "id": "df580689",
   "metadata": {},
   "outputs": [
    {
     "name": "stdout",
     "output_type": "stream",
     "text": [
      "(2+2j)\n"
     ]
    }
   ],
   "source": [
    "x=\"shubham\" #string\n",
    "\n",
    "y=1 #int\n",
    "z=1.1 #float\n",
    "w= 2j+2 #complex\n",
    "print(w)"
   ]
  },
  {
   "cell_type": "code",
   "execution_count": null,
   "id": "9d106767",
   "metadata": {},
   "outputs": [],
   "source": [
    "x = [\"apple\", \"banana\", \"cherry\"]\n",
    "\n",
    "# list is mutable means\n",
    "\n",
    "x = (\"apple\", \"banana\", \"cherry\")\t#tuple\t\n",
    "x = range(6)\t#range\t\n",
    "x = {\"name\" : \"John\", \"age\" : 36}\t#dict\t\n",
    "x = {\"apple\", \"banana\", \"cherry\"}\t#set\t\n",
    "x = frozenset({\"apple\", \"banana\", \"cherry\"})\t#frozenset\t\n",
    "x = True\t#bool\t\n",
    "x = b\"Hello\"\t#bytes\t\n",
    "x = bytearray(5)\t#bytearray\t\n",
    "x = memoryview(bytes(5))\t#memoryview\t\n",
    "x = None"
   ]
  },
  {
   "cell_type": "code",
   "execution_count": null,
   "id": "f33b4f2e",
   "metadata": {},
   "outputs": [],
   "source": [
    "# type asting in python can be done by as follow\n",
    "\n",
    "# int()\n",
    "\n",
    "# float()\n",
    "\n",
    "# str()\n",
    "\n",
    "# complex()"
   ]
  }
 ],
 "metadata": {
  "kernelspec": {
   "display_name": ".venv",
   "language": "python",
   "name": "python3"
  },
  "language_info": {
   "codemirror_mode": {
    "name": "ipython",
    "version": 3
   },
   "file_extension": ".py",
   "mimetype": "text/x-python",
   "name": "python",
   "nbconvert_exporter": "python",
   "pygments_lexer": "ipython3",
   "version": "3.13.5"
  }
 },
 "nbformat": 4,
 "nbformat_minor": 5
}
