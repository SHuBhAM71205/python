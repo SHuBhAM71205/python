{
 "cells": [
  {
   "cell_type": "markdown",
   "id": "6f54bea1",
   "metadata": {},
   "source": [
    "Tupple in python\n",
    "\n",
    "declaration name=()\n",
    "\n",
    "Ordered\n",
    "When we say that tuples are ordered, it means that the items have a defined order, and that order will not change.\n",
    "\n",
    "Unchangeable\n",
    "Tuples are unchangeable, meaning that we cannot change, add or remove items after the tuple has been created.\n",
    "\n",
    "Allow Duplicates\n",
    "Since tuples are indexed, they can have items with the same value"
   ]
  },
  {
   "cell_type": "code",
   "execution_count": 3,
   "id": "11df6bd7",
   "metadata": {},
   "outputs": [
    {
     "name": "stdout",
     "output_type": "stream",
     "text": [
      "('apple', 1, 'cherry', 'apple', 'cherry')\n"
     ]
    }
   ],
   "source": [
    "thistuple = (\"apple\", 1, \"cherry\", \"apple\", \"cherry\")\n",
    "print(thistuple)"
   ]
  },
  {
   "cell_type": "code",
   "execution_count": 4,
   "id": "8ecd1d07",
   "metadata": {},
   "outputs": [],
   "source": [
    "thistuple2 = tuple((\"apple\", \"banana\", \"cherry\")) # note the double round-brackets"
   ]
  },
  {
   "cell_type": "code",
   "execution_count": null,
   "id": "43039988",
   "metadata": {},
   "outputs": [
    {
     "name": "stdout",
     "output_type": "stream",
     "text": [
      "1\n"
     ]
    }
   ],
   "source": [
    "# it is indeced so can be access the by i\n",
    "\n",
    "print(thistuple[1])\n",
    "print(thistuple[-1]) #from the back\n",
    "\n",
    "print(thistuple[2:5])\n",
    "\n",
    "if \"apple\" in thistuple:\n",
    "    print(\"apple is present in this tupple\")"
   ]
  },
  {
   "cell_type": "markdown",
   "id": "99956906",
   "metadata": {},
   "source": [
    "Update directly is not allow in the tupple but copy as list\n",
    "\n"
   ]
  },
  {
   "cell_type": "code",
   "execution_count": 8,
   "id": "89b4a0a9",
   "metadata": {},
   "outputs": [
    {
     "name": "stdout",
     "output_type": "stream",
     "text": [
      "['apple', 1, 'cherry', 'apple', 'cherry']\n",
      "['cherry', 'apple', 'cherry', 1, 'apple']\n"
     ]
    }
   ],
   "source": [
    "thilist=[]\n",
    "\n",
    "thilist.extend(thistuple)\n",
    "\n",
    "\n",
    "print(thilist)\n",
    "thilist.reverse()\n",
    "print(thilist)\n"
   ]
  },
  {
   "cell_type": "markdown",
   "id": "b9b82dbd",
   "metadata": {},
   "source": [
    "We can also do like the array destructuring here in tuple"
   ]
  },
  {
   "cell_type": "code",
   "execution_count": 10,
   "id": "9b0fd0e7",
   "metadata": {},
   "outputs": [
    {
     "name": "stdout",
     "output_type": "stream",
     "text": [
      "apple\n",
      "1\n",
      "['cherry', 'apple', 'cherry']\n",
      "apple\n",
      "1\n",
      "cherry\n",
      "apple\n"
     ]
    }
   ],
   "source": [
    "(a,b,c,d,e)=thistuple\n",
    "(app,ba,*cd)=thistuple\n",
    "\n",
    "print(app)\n",
    "print(ba)\n",
    "print(cd)\n",
    "\n",
    "print(a)\n",
    "print(b)\n",
    "print(c)\n",
    "print(d)"
   ]
  },
  {
   "cell_type": "markdown",
   "id": "0a34452e",
   "metadata": {},
   "source": [
    "lOOPS IN SET IS SAME AS ALL BUT WE CAN DO THIS THING "
   ]
  },
  {
   "cell_type": "code",
   "execution_count": null,
   "id": "3dd25906",
   "metadata": {},
   "outputs": [],
   "source": []
  }
 ],
 "metadata": {
  "kernelspec": {
   "display_name": ".venv",
   "language": "python",
   "name": "python3"
  },
  "language_info": {
   "codemirror_mode": {
    "name": "ipython",
    "version": 3
   },
   "file_extension": ".py",
   "mimetype": "text/x-python",
   "name": "python",
   "nbconvert_exporter": "python",
   "pygments_lexer": "ipython3",
   "version": "3.13.5"
  }
 },
 "nbformat": 4,
 "nbformat_minor": 5
}
