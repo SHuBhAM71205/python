{
 "cells": [
  {
   "cell_type": "markdown",
   "id": "115233ba",
   "metadata": {},
   "source": [
    "this is the set \n",
    "\n",
    "thisdict = {\n",
    "  \"brand\": \"Ford\",\n",
    "  \"model\": \"Mustang\",\n",
    "  \"year\": 1964\n",
    "}\n",
    "\n",
    "and in this there is the keyvalue pair and it can be access by using the key \n"
   ]
  },
  {
   "cell_type": "code",
   "execution_count": null,
   "id": "68b5cb91",
   "metadata": {},
   "outputs": [],
   "source": [
    "thisdict = {\n",
    "  \"brand\": \"Ford\",\n",
    "  \"model\": \"Mustang\",\n",
    "  \"year\": 1964\n",
    "}\n",
    "print(thisdict[\"brand\"])\n",
    "print(thisdict)"
   ]
  },
  {
   "cell_type": "code",
   "execution_count": null,
   "id": "b2d8f9f8",
   "metadata": {},
   "outputs": [],
   "source": [
    "as simplle the le len is use to get the no of the element"
   ]
  },
  {
   "cell_type": "code",
   "execution_count": null,
   "id": "69aedd02",
   "metadata": {},
   "outputs": [],
   "source": [
    "thisdict = dict(name = \"John\", age = 36, country = \"Norway\")\n",
    "print(thisdict)\n"
   ]
  },
  {
   "cell_type": "markdown",
   "id": "8fde0c34",
   "metadata": {},
   "source": [
    "Accessing the key value in the dict"
   ]
  },
  {
   "cell_type": "code",
   "execution_count": null,
   "id": "e24d1d81",
   "metadata": {},
   "outputs": [],
   "source": [
    "print(thisdict.keys())\n",
    "print(thisdict.values())\n",
    "print(thisdict.get(\"name\"))\n"
   ]
  },
  {
   "cell_type": "markdown",
   "id": "3f0a1ca3",
   "metadata": {},
   "source": [
    "Update the data in the dict"
   ]
  },
  {
   "cell_type": "code",
   "execution_count": null,
   "id": "a5483a65",
   "metadata": {},
   "outputs": [],
   "source": [
    "thisdict = {\n",
    "  \"brand\": \"Ford\",\n",
    "  \"model\": \"Mustang\",\n",
    "  \"year\": 1964\n",
    "}\n",
    "thisdict[\"year\"] = 2018\n",
    "\n",
    "thisdict.update(\"year\")=2015"
   ]
  },
  {
   "cell_type": "markdown",
   "id": "3ad0d097",
   "metadata": {},
   "source": [
    "delete"
   ]
  },
  {
   "cell_type": "markdown",
   "id": "a7b44a7a",
   "metadata": {},
   "source": [
    "thisdict.pop(\"model\")'\n",
    "\n",
    "thisdict.popitem()\n",
    "\n",
    "del thisdict[\"model\"]\n",
    "\n",
    "del thisdict    \n",
    "\n",
    "thisdict.clear()"
   ]
  },
  {
   "cell_type": "markdown",
   "id": "f7dd0689",
   "metadata": {},
   "source": [
    "for llops in the dict is not diff but we can do this "
   ]
  },
  {
   "cell_type": "code",
   "execution_count": 9,
   "id": "7538217f",
   "metadata": {},
   "outputs": [
    {
     "name": "stdout",
     "output_type": "stream",
     "text": [
      "brand Ford\n",
      "model Mustang\n",
      "year 2018\n"
     ]
    }
   ],
   "source": [
    "for X,Y in thisdict.items():\n",
    "    print(X,Y)"
   ]
  },
  {
   "cell_type": "markdown",
   "id": "237cae9f",
   "metadata": {},
   "source": []
  },
  {
   "cell_type": "markdown",
   "id": "923348b6",
   "metadata": {},
   "source": [
    "clear()\tRemoves all the elements from the dictionary\n",
    "\n",
    "copy()\tReturns a copy of the dictionary\n",
    "\n",
    "fromkeys()\tReturns a dictionary with the specified keys and value\n",
    "\n",
    "get()\tReturns the value of the specified key\n",
    "\n",
    "items()\tReturns a list containing a tuple for each key value pair\n",
    "\n",
    "keys()\tReturns a list containing the dictionary's keys\n",
    "\n",
    "pop()\tRemoves the element with the specified key\n",
    "\n",
    "popitem()\tRemoves the last inserted key-value pair\n",
    "\n",
    "setdefault()\tReturns the value of the specified key. If the key does not exist: insert the key, with the specified value\n",
    "\n",
    "update()\tUpdates the dictionary with the specified key-value pairs\n",
    "\n",
    "values()\tReturns a list of all the values in the dictionary"
   ]
  }
 ],
 "metadata": {
  "kernelspec": {
   "display_name": ".venv",
   "language": "python",
   "name": "python3"
  },
  "language_info": {
   "codemirror_mode": {
    "name": "ipython",
    "version": 3
   },
   "file_extension": ".py",
   "mimetype": "text/x-python",
   "name": "python",
   "nbconvert_exporter": "python",
   "pygments_lexer": "ipython3",
   "version": "3.13.5"
  }
 },
 "nbformat": 4,
 "nbformat_minor": 5
}
