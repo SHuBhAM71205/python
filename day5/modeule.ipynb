{
 "cells": [
  {
   "cell_type": "markdown",
   "id": "81c42c7f",
   "metadata": {},
   "source": [
    "![alt text](image.png)"
   ]
  },
  {
   "cell_type": "code",
   "execution_count": 12,
   "id": "7fa17918",
   "metadata": {},
   "outputs": [
    {
     "name": "stdout",
     "output_type": "stream",
     "text": [
      "Hello World\n"
     ]
    }
   ],
   "source": [
    "import mymod\n",
    "\n",
    "mymod.greet()"
   ]
  },
  {
   "cell_type": "markdown",
   "id": "3fbe48e9",
   "metadata": {},
   "source": [
    "So module is the libray in the python\n"
   ]
  },
  {
   "cell_type": "code",
   "execution_count": 14,
   "id": "ae0ced99",
   "metadata": {},
   "outputs": [
    {
     "ename": "ImportError",
     "evalue": "cannot import name 'person1' from 'mymod' (c:\\Users\\sp710\\Desktop\\python\\day5\\mymod.py)",
     "output_type": "error",
     "traceback": [
      "\u001b[31m---------------------------------------------------------------------------\u001b[39m",
      "\u001b[31mImportError\u001b[39m                               Traceback (most recent call last)",
      "\u001b[36mCell\u001b[39m\u001b[36m \u001b[39m\u001b[32mIn[14]\u001b[39m\u001b[32m, line 1\u001b[39m\n\u001b[32m----> \u001b[39m\u001b[32m1\u001b[39m \u001b[38;5;28;01mfrom\u001b[39;00m\u001b[38;5;250m \u001b[39m\u001b[34;01mmymod\u001b[39;00m\u001b[38;5;250m \u001b[39m\u001b[38;5;28;01mimport\u001b[39;00m person1\n\u001b[32m      3\u001b[39m a=person1[\u001b[33m\"\u001b[39m\u001b[33mname\u001b[39m\u001b[33m\"\u001b[39m]\n\u001b[32m      5\u001b[39m \u001b[38;5;28mprint\u001b[39m(a)\n",
      "\u001b[31mImportError\u001b[39m: cannot import name 'person1' from 'mymod' (c:\\Users\\sp710\\Desktop\\python\\day5\\mymod.py)"
     ]
    }
   ],
   "source": [
    "from mymod import person1\n",
    "\n",
    "a=person1[\"name\"]\n",
    "\n",
    "print(a)"
   ]
  }
 ],
 "metadata": {
  "kernelspec": {
   "display_name": ".venv",
   "language": "python",
   "name": "python3"
  },
  "language_info": {
   "codemirror_mode": {
    "name": "ipython",
    "version": 3
   },
   "file_extension": ".py",
   "mimetype": "text/x-python",
   "name": "python",
   "nbconvert_exporter": "python",
   "pygments_lexer": "ipython3",
   "version": "3.13.5"
  }
 },
 "nbformat": 4,
 "nbformat_minor": 5
}
