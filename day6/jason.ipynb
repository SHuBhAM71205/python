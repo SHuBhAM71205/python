{
 "cells": [
  {
   "cell_type": "markdown",
   "id": "d0e9f575",
   "metadata": {},
   "source": [
    "json formating using the python"
   ]
  },
  {
   "cell_type": "code",
   "execution_count": 8,
   "id": "6d49a2eb",
   "metadata": {},
   "outputs": [],
   "source": [
    "import json"
   ]
  },
  {
   "cell_type": "code",
   "execution_count": 9,
   "id": "33c82f64",
   "metadata": {},
   "outputs": [
    {
     "name": "stdout",
     "output_type": "stream",
     "text": [
      "{'name': 'John', 'age': 30, 'city': 'New York'}\n"
     ]
    }
   ],
   "source": [
    "x =  '{ \"name\":\"John\", \"age\":30, \"city\":\"New York\"}'\n",
    "\n",
    "# parse x:\n",
    "y = json.loads(x)\n",
    "\n",
    "# the result is a Python dictionary:\n",
    "print(y)"
   ]
  },
  {
   "cell_type": "code",
   "execution_count": 10,
   "id": "d88fb9e0",
   "metadata": {},
   "outputs": [
    {
     "name": "stdout",
     "output_type": "stream",
     "text": [
      "{\"name\": \"John\", \"age\": 30, \"city\": \"New York\"}\n"
     ]
    }
   ],
   "source": [
    "#convert the python to the json\n",
    "\n",
    "x = {\n",
    "  \"name\": \"John\",\n",
    "  \"age\": 30,\n",
    "  \"city\": \"New York\"\n",
    "}\n",
    "\n",
    "# convert into JSON:\n",
    "y = json.dumps(x)\n",
    "\n",
    "# the result is a JSON string:\n",
    "print(y)"
   ]
  },
  {
   "cell_type": "markdown",
   "id": "62feb5e8",
   "metadata": {},
   "source": [
    "\n",
    "\n",
    "Python\t            JSON\n",
    "\n",
    "dict\t            Object\n",
    "\n",
    "list\t            Array\n",
    "\n",
    "tuple\t            Array\n",
    "\n",
    "str\t                String\n",
    "\n",
    "int             \tNumber\n",
    "\n",
    "float\t            Number\n",
    "\n",
    "True\t            true\n",
    "\n",
    "False\t            false\n",
    "\n",
    "None\t            null"
   ]
  },
  {
   "cell_type": "code",
   "execution_count": 12,
   "id": "bae86f3f",
   "metadata": {},
   "outputs": [
    {
     "data": {
      "text/plain": [
       "'{\\n    \"name\": \"John\",\\n    \"age\": 30,\\n    \"city\": \"New York\"\\n}'"
      ]
     },
     "execution_count": 12,
     "metadata": {},
     "output_type": "execute_result"
    }
   ],
   "source": [
    "#we can also provide the indent in the dump met so it look good\n",
    "\n",
    "json.dumps(x,indent=4) "
   ]
  }
 ],
 "metadata": {
  "kernelspec": {
   "display_name": ".venv",
   "language": "python",
   "name": "python3"
  },
  "language_info": {
   "codemirror_mode": {
    "name": "ipython",
    "version": 3
   },
   "file_extension": ".py",
   "mimetype": "text/x-python",
   "name": "python",
   "nbconvert_exporter": "python",
   "pygments_lexer": "ipython3",
   "version": "3.13.5"
  }
 },
 "nbformat": 4,
 "nbformat_minor": 5
}
